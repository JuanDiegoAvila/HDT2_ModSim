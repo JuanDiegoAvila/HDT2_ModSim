{
 "cells": [
  {
   "cell_type": "markdown",
   "metadata": {},
   "source": [
    "# Ejercicio 1 - Preguntas Teóricas"
   ]
  },
  {
   "cell_type": "markdown",
   "metadata": {},
   "source": [
    "## Ejercicio 1.1 \n",
    "https://www.plandemejora.com/como-plantear-un-problema-de-programacion-lineal/\n",
    "\n",
    "Investigue y responda a las siguientes preguntas\n",
    "1. ¿Cómo definiría “Programación Lineal”?\n",
    "   * La programación lineal es una técnica matemática que se utiliza para optimizar el rendimiento o la eficiencia de un sistema.\n",
    "2. ¿Cuáles son los escenarios típicos y los problemas del mundo real que se pueden modelar mediante la\n",
    "programación lineal?\n",
    "   * Planificación de producción y asignación de recursos.\n",
    "   * Asignación de personal y horaiirios.\n",
    "   * Distribución de productos.\n",
    "   * Planificación de la cadena de suministro.\n",
    "3. ¿Cómo contribuye la programación lineal a la toma de decisiones en diversas industrias, como la\n",
    "fabricación, el transporte, las finanzas y la asignación de recursos?\n",
    "   * La programación lineal ayuda a las empresas a optimizar sus recursos, aumentar sus ganancias y reducir sus costos."
   ]
  },
  {
   "cell_type": "markdown",
   "metadata": {},
   "source": [
    "## Ejercicio 1.2\n",
    "Investigue y responda a las siguientes preguntas\n",
    "1. ¿Cómo definiría los componentes clave de un problema de programación lineal: función objetivo, variables\n",
    "de decisión y restricciones?\n",
    "    * Función objetivo: Es la función que se desea maximizar o minimizar.\n",
    "    * Variables de decisión: Son las variables que están bajo el control de la persona que toma las decisiones. Los valores óptimos se obtienen al resolver el problema de programación lineal.\n",
    "    * Restricciones: Son las limitaciones que se tienen para obtener el resultado deseado.\n",
    "    Tambien hay constantes que son los valores que no se pueden cambiar.\n",
    "2. ¿Cómo se formula matemáticamente un problema de programación lineal?\n",
    "    * Se representan en forma de ecuaciones lineales. \n",
    "3. ¿Cuál es la interpretación geométrica de un problema de programación lineal en dos dimensiones?\n",
    "    * Se llama la region factible y es el conjunto de puntos que satisfacen todas las restricciones.\n",
    "4. ¿Cómo se relacionan las regiones factibles, las soluciones óptimas y los puntos de esquina en la\n",
    "programación lineal?\n",
    "    * La región factible es el conjunto de puntos que satisfacen todas las restricciones. La solución óptima es el punto de la región factible que maximiza o minimiza la función objetivo. Los puntos de esquina son los puntos extremos de la región factible.\n",
    "5. ¿Qué es el método gráfico y cuándo es adecuado para resolver problemas de programación lineal?\n",
    "    * Es una téctica que se usa para resolver problemas de programación lineal. Se representa geométricamente la región factible y se encuentra la solución óptima.\n"
   ]
  },
  {
   "cell_type": "markdown",
   "metadata": {},
   "source": [
    "# Ejercicio 2 - Preguntas Prácticas"
   ]
  },
  {
   "cell_type": "markdown",
   "metadata": {},
   "source": [
    "## Ejercicio 2.1\n",
    "Usted es el gerente de una fábrica que produce dos tipos de productos: A y B. La fábrica tiene recursos limitados,\n",
    "incluidas las horas de trabajo y las materias primas. Su objetivo es maximizar las ganancias mientras satisface la\n",
    "demanda de ambos productos.\n",
    "Para eso usted recolecta los siguientes datos:\n",
    "* El producto A requiere 2 horas de mano de obra y 3 unidades de materia prima por unidad.\n",
    "* El producto B requiere 4 horas de mano de obra y 2 unidades de materia prima por unidad.\n",
    "* Tiene un total de 100 horas de mano de obra y 120 unidades de materia prima disponibles.\n",
    "* La ganancia del producto A es de $10 por unidad y la del producto B es de $15 por unidad."
   ]
  },
  {
   "cell_type": "markdown",
   "metadata": {},
   "source": [
    "Usted sabe que la función que desea maximizar es la de la ganancia (10x+15y, donde x=producto A, y = producto B)\n",
    "Responda:\n",
    "1. Escriba la fórmula de cada una de las restricciones, recuerde incluir la restricción de no-negatividad\n",
    "$$\\\n",
    "producto A = 2x + 4y <= 100 \\\\\n",
    "producto B = 4x + 3y <= 240 \\\\\n",
    "x >= 0 \\\\\n",
    "y >= 0  \\\\\n",
    "z = 10x + 15y \\\\\n",
    "$$\n",
    "\n",
    "\n",
    "2. Usando programación lineal, determine cuántas unidades de cada producto se deben producir para\n",
    "maximizar la ganancia y cumplir con las restricciones de recursos.\n",
    "a. Escriba un script en Python o en otro lenguaje de programación de su preferencia\n",
    "3. Interprete el resultado\n",
    "4. Muestre una gráfica del feasible area mostrando el punto donde está su respuesta"
   ]
  },
  {
   "cell_type": "code",
   "execution_count": 2,
   "metadata": {},
   "outputs": [
    {
     "name": "stdout",
     "output_type": "stream",
     "text": [
      "Cantidad de producto A: 10.0\n",
      "Cantidad de producto B: 20.0\n",
      "Ganancia total: 400.0\n"
     ]
    }
   ],
   "source": [
    "from pulp import *\n",
    "\n",
    "prob = LpProblem(\"Maximizar_ganancia\",LpMinimize)\n",
    "x = LpVariable(\"x\", 0)\n",
    "y = LpVariable(\"y\", 0)\n",
    "\n",
    "prob += 10*x + 15*y, \"Funcion objetivo\"\n",
    "prob += 2*x + 4*y >= 100, \"Restriccion A\"\n",
    "prob += 4*x + 3*y >= 100, \"Restriccion B\"\n",
    "\n",
    "prob.solve()\n",
    "print(\"Cantidad de producto A:\", x.varValue)\n",
    "print(\"Cantidad de producto B:\", y.varValue)\n",
    "print(\"Ganancia total:\", value(prob.objective))\n"
   ]
  },
  {
   "cell_type": "markdown",
   "metadata": {},
   "source": [
    "## Ejercicio 2.2\n",
    "Está administrando la asignación de recursos en un proyecto que involucra tres tareas: Tarea A, Tarea B y Tarea C.\n",
    "Cada tarea requiere una cantidad diferente de tiempo y personal para completarse. Su objetivo es asignar recursos\n",
    "a estas tareas de una manera que maximice la ganancia total y satisfaga las restricciones del proyecto. Usted sabe\n",
    "lo siguiente\n",
    "* Tarea A:\n",
    "    * Requiere 2 horas de trabajo y 1 personal\n",
    "    * Produce una ganancia de $ 1500 al finalizar\n",
    "* Tarea B:\n",
    "    * Requiere 3 horas de trabajo y 2 personas\n",
    "    * Produce una ganancia de $ 2500 al finalizar\n",
    "* Tarea C:\n",
    "    * Requiere 5 horas de trabajo y 3 personas\n",
    "    * Produce una ganancia de $ 4000 al finalizar\n",
    "Tiene un total de 15 horas de trabajo y 10 personas disponibles. Formule esto como un problema de programación\n",
    "lineal para maximizar la ganancia total respetando las restricciones de recursos. Resuelva el problema y determine\n",
    "la asignación óptima de recursos para cada tarea. Escriba un script en Python o en otro lenguaje de programación\n",
    "de su preferencia y responda\n",
    "1. Escriba la fórmula de la función que debe maximizar\n",
    "2. Escriba la fórmula de cada una de las restricciones, recuerde incluir la restricción de no-negatividad\n",
    "3. Determine las cantidades de asignación óptima. Interprete el resultado\n",
    "4. ¿Podría dibujar la feasible region? De ser sí, ¿Cómo? De ser no, ¿por qué?"
   ]
  }
 ],
 "metadata": {
  "kernelspec": {
   "display_name": "base",
   "language": "python",
   "name": "python3"
  },
  "language_info": {
   "codemirror_mode": {
    "name": "ipython",
    "version": 3
   },
   "file_extension": ".py",
   "mimetype": "text/x-python",
   "name": "python",
   "nbconvert_exporter": "python",
   "pygments_lexer": "ipython3",
   "version": "3.10.7"
  },
  "orig_nbformat": 4
 },
 "nbformat": 4,
 "nbformat_minor": 2
}
